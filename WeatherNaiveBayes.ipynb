{
  "nbformat": 4,
  "nbformat_minor": 0,
  "metadata": {
    "colab": {
      "name": "WeatherNaiveBayes.ipynb",
      "provenance": [],
      "collapsed_sections": []
    },
    "kernelspec": {
      "name": "python3",
      "display_name": "Python 3"
    }
  },
  "cells": [
    {
      "cell_type": "code",
      "metadata": {
        "id": "rwNN6k1SJyk3",
        "colab_type": "code",
        "outputId": "a12173ce-cdb8-4664-e972-2c9d6a61ae66",
        "colab": {
          "base_uri": "https://localhost:8080/",
          "height": 34
        }
      },
      "source": [
        "import numpy as np\n",
        "from collections import Counter, defaultdict\n",
        " \n",
        "def occurrences(list1):\n",
        "    no_of_examples = len(list1)\n",
        "    prob = dict(Counter(list1))\n",
        "    for key in prob.keys():\n",
        "        prob[key] = prob[key] / float(no_of_examples)\n",
        "    return prob\n",
        " \n",
        "def naive_bayes(training, outcome, new_sample):\n",
        "    classes     = np.unique(outcome)\n",
        "    rows, cols  = np.shape(training)\n",
        "    likelihoods = {}\n",
        "    for cls in classes:\n",
        "        likelihoods[cls] = defaultdict(list)\n",
        " \n",
        "    class_probabilities = occurrences(outcome)\n",
        " \n",
        "    for cls in classes:\n",
        "        row_indices = np.where(outcome == cls)[0]\n",
        "        subset      = training[row_indices, :]\n",
        "        r, c        = np.shape(subset)\n",
        "        for j in range(0,c):\n",
        "            likelihoods[cls][j] += list(subset[:,j])\n",
        " \n",
        "    for cls in classes:\n",
        "        for j in range(0,cols):\n",
        "             likelihoods[cls][j] = occurrences(likelihoods[cls][j])\n",
        " \n",
        "    results = {}\n",
        "    for cls in classes:\n",
        "         class_probability = class_probabilities[cls]\n",
        "         for i in range(0,len(new_sample)):\n",
        "             relative_values = likelihoods[cls][i]\n",
        "             if new_sample[i] in relative_values.keys():\n",
        "                 class_probability *= relative_values[new_sample[i]]\n",
        "             else:\n",
        "                 class_probability *= 0\n",
        "             results[cls] = class_probability\n",
        "    print (results)\n",
        " \n",
        "if __name__ == \"__main__\":\n",
        "    training   = np.asarray(((\"Sunny\",\"Hot\",\"High\",\"Weak\"),(\"Sunny\",\"Hot\",\"High\",\"Strong\"),(\"Overcast\",\"Hot\",\"High\",\"Weak\"),(\"Rain\",\"Mild\",\"High\",\"Weak\"),(\"Rain\",\"Cool\",\"Normal\",\"Weak\"),(\"Rain\",\"Cool\",\"Normal\",\"Strong\"),(\"Overcast\",\"Cool\",\"Normal\",\"Strong\"),(\"Sunny\",\"Mild\",\"High\",\"Weak\"),(\"Sunny\",\"Cool\",\"Normal\",\"Weak\"),(\"Rain\",\"Mild\",\"Normal\",\"Weak\"),(\"Sunny\",\"Mild\",\"Normal\",\"Strong\"),(\"Overcast\",\"Mild\",\"High\",\"Strong\"),(\"Overcast\",\"Hot\",\"Normal\",\"Weak\"),(\"Rain\",\"Mild\",\"High\",\"Strong\")));\n",
        "    outcome    = np.asarray((\"No\",\"No\",\"Yes\",\"Yes\",\"Yes\",\"No\",\"Yes\",\"No\",\"Yes\",\"Yes\",\"Yes\",\"Yes\",\"Yes\",\"No\"))\n",
        "    new_sample = np.asarray((\"Sunny\",\"Cool\",\"High\",\"Strong\"))\n",
        "    naive_bayes(training, outcome, new_sample)"
      ],
      "execution_count": 0,
      "outputs": [
        {
          "output_type": "stream",
          "text": [
            "{'No': 0.02057142857142857, 'Yes': 0.005291005291005291}\n"
          ],
          "name": "stdout"
        }
      ]
    }
  ]
}