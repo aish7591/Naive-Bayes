{
  "nbformat": 4,
  "nbformat_minor": 0,
  "metadata": {
    "colab": {
      "name": "SimpleNaiveBayes.ipynb",
      "provenance": [],
      "collapsed_sections": []
    },
    "kernelspec": {
      "name": "python3",
      "display_name": "Python 3"
    }
  },
  "cells": [
    {
      "cell_type": "code",
      "metadata": {
        "id": "bqE6k8onJcRG",
        "colab_type": "code",
        "outputId": "e97fcd7b-a0c3-4ad6-d7e8-c6cf75d24b13",
        "colab": {
          "base_uri": "https://localhost:8080/",
          "height": 34
        }
      },
      "source": [
        "import numpy as np\n",
        "from collections import Counter, defaultdict\n",
        " \n",
        "def occurrences(list1):\n",
        "    no_of_examples = len(list1)\n",
        "    prob = dict(Counter(list1))\n",
        "    for key in prob.keys():\n",
        "        prob[key] = prob[key] / float(no_of_examples)\n",
        "    return prob\n",
        " \n",
        "def naive_bayes(training, outcome, new_sample):\n",
        "    classes     = np.unique(outcome)\n",
        "    rows, cols  = np.shape(training)\n",
        "    likelihoods = {}\n",
        "    for cls in classes:\n",
        "        likelihoods[cls] = defaultdict(list)\n",
        " \n",
        "    class_probabilities = occurrences(outcome)\n",
        " \n",
        "    for cls in classes:\n",
        "        row_indices = np.where(outcome == cls)[0]\n",
        "        subset      = training[row_indices, :]\n",
        "        r, c        = np.shape(subset)\n",
        "        for j in range(0,c):\n",
        "            likelihoods[cls][j] += list(subset[:,j])\n",
        " \n",
        "    for cls in classes:\n",
        "        for j in range(0,cols):\n",
        "             likelihoods[cls][j] = occurrences(likelihoods[cls][j])\n",
        " \n",
        "    results = {}\n",
        "    for cls in classes:\n",
        "         class_probability = class_probabilities[cls]\n",
        "         for i in range(0,len(new_sample)):\n",
        "             relative_values = likelihoods[cls][i]\n",
        "             if new_sample[i] in relative_values.keys():\n",
        "                 class_probability *= relative_values[new_sample[i]]\n",
        "             else:\n",
        "                 class_probability *= 0\n",
        "             results[cls] = class_probability\n",
        "    print(results)\n",
        " \n",
        "if __name__ == \"__main__\":\n",
        "    training   = np.asarray(((\"Yes\",\"No\",\"Mild\",\"Yes\"),(\"Yes\",\"Yes\",\"No\",\"No\"),(\"Yes\",\"No\",\"Strong\",\"Yes\"),(\"No\",\"Yes\",\"Mild\",\"Yes\"),(\"No\",\"No\",\"No\",\"No\"),(\"No\",\"Yes\",\"Strong\",\"Yes\"),(\"No\",\"Yes\",\"Strong\",\"No\"),(\"Yes\",\"Yes\",\"Mild\",\"Yes\")));\n",
        "    outcome    = np.asarray((\"No\",\"Yes\",\"Yes\",\"Yes\",\"No\",\"Yes\",\"No\",\"Yes\"))\n",
        "    new_sample = np.asarray((\"Yes\",\"No\",\"Mild\",\"No\"))\n",
        "    naive_bayes(training, outcome, new_sample)"
      ],
      "execution_count": 0,
      "outputs": [
        {
          "output_type": "stream",
          "text": [
            "{'No': 0.018518518518518517, 'Yes': 0.006000000000000002}\n"
          ],
          "name": "stdout"
        }
      ]
    }
  ]
}